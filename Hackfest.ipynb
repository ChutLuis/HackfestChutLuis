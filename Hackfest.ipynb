{
 "cells": [
  {
   "attachments": {},
   "cell_type": "markdown",
   "metadata": {},
   "source": [
    "# Primer Problema"
   ]
  },
  {
   "cell_type": "code",
   "execution_count": 48,
   "metadata": {},
   "outputs": [],
   "source": [
    "class Rect:\n",
    "  \n",
    "  def __init__(self, x0, y0,x1,y1):\n",
    "    if(type(x0) is int and x0>0)and (type(y0) is int and y0>0)and(type(x1) is int and x1>0)and(type(y1) is int and y1>0):\n",
    "      self.x0 = x0\n",
    "      self.y0 = y0\n",
    "      self.x1 = x1\n",
    "      self.y1 = y1\n",
    "    else:\n",
    "      raise Exception(\"Sorry, only numbers and above 0 are allowed \")\n",
    "  \n",
    "  def calculateArea(self):\n",
    "    ancho=self.x1-self.x0\n",
    "    alto=self.y1-self.y0\n",
    "    area=ancho*alto\n",
    "    return area"
   ]
  },
  {
   "cell_type": "code",
   "execution_count": 49,
   "metadata": {},
   "outputs": [
    {
     "name": "stdout",
     "output_type": "stream",
     "text": [
      "The rectangle with area:  12  is inside the rectangle:  10\n",
      "4\n"
     ]
    },
    {
     "data": {
      "text/plain": [
       "36"
      ]
     },
     "execution_count": 49,
     "metadata": {},
     "output_type": "execute_result"
    }
   ],
   "source": [
    "f = open(\"demofile.txt\", \"r\")\n",
    "fileLines =f.readlines()\n",
    "rectangles = []\n",
    "for L in fileLines:\n",
    "  prueba = \" \".join(L.split())  \n",
    "  prueba = prueba.split(',')\n",
    "  rectangle = Rect(int(prueba[0]),int(prueba[1]),int(prueba[2]),int(prueba[3]))\n",
    "  rectangles.append(rectangle)  \n",
    "areas=[]\n",
    "for x in rectangles:\n",
    "  areas.append(x.calculateArea())\n",
    "  for y in rectangles:\n",
    "    if (y.y0 > x.y0 and y.y0 < x.y1) or (y.y1 > x.y1 and y.y0 < x.y1):\n",
    "      if (y.x0 > x.x0 and y.x0 < x.x1) or (y.x1 > x.x1 and y.x0 < x.x1) :\n",
    "        print('The rectangle with area: ',y.calculateArea(),' is inside the rectangle: ',x.calculateArea())\n",
    "        prueba = Rect(y.x0,y.y0,x.x1,x.y1)\n",
    "        print(prueba.calculateArea())\n",
    "        areas.append(0-prueba.calculateArea())\n",
    "\n",
    "total= sum(areas)\n",
    "total\n"
   ]
  },
  {
   "attachments": {},
   "cell_type": "markdown",
   "metadata": {},
   "source": [
    "# Segundo Problema"
   ]
  },
  {
   "cell_type": "code",
   "execution_count": 58,
   "metadata": {},
   "outputs": [
    {
     "name": "stdout",
     "output_type": "stream",
     "text": [
      "+-------------+\n",
      "|             |\n",
      "|             |\n",
      "|             |\n",
      "+------+------+\n",
      "+------+------+\n",
      "\n",
      "\n",
      "\n",
      "\n",
      "\n"
     ]
    }
   ],
   "source": [
    "f = open(\"diagram.txt\", \"r\")\n",
    "fileLines =f.readlines()\n",
    "aux1=\"\"\n",
    "startHack= False\n",
    "for L in fileLines:\n",
    "    if startHack:\n",
    "        aux1+=L\n",
    "    if '-' in L and '+' in L:\n",
    "        if not startHack:\n",
    "            startHack=True\n",
    "            aux1+=L\n",
    "        else:\n",
    "            startHack=False\n",
    "            aux1+=L\n",
    "            print(aux1)\n",
    "            aux1=\"\"\n",
    "            aux1+=L\n",
    "            "
   ]
  }
 ],
 "metadata": {
  "kernelspec": {
   "display_name": "Python 3",
   "language": "python",
   "name": "python3"
  },
  "language_info": {
   "codemirror_mode": {
    "name": "ipython",
    "version": 3
   },
   "file_extension": ".py",
   "mimetype": "text/x-python",
   "name": "python",
   "nbconvert_exporter": "python",
   "pygments_lexer": "ipython3",
   "version": "3.10.2"
  },
  "orig_nbformat": 4
 },
 "nbformat": 4,
 "nbformat_minor": 2
}
